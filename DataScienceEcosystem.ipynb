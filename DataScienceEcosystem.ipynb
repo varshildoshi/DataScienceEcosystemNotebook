{
 "cells": [
  {
   "cell_type": "markdown",
   "id": "6ac2c15f-d34e-41df-9a11-f05a140e632b",
   "metadata": {},
   "source": [
    "# Data Science Tools and Ecosystem"
   ]
  },
  {
   "cell_type": "markdown",
   "id": "458498c0-abc0-46a4-8b34-2e1a95267b23",
   "metadata": {},
   "source": [
    "## Introduction"
   ]
  },
  {
   "cell_type": "markdown",
   "id": "6a96d3b7-7e14-4836-b2b8-0bdf24059bae",
   "metadata": {},
   "source": [
    "#### List Objectives\n",
    "\n",
    "**Objectives:**\n",
    "- Data visualization\n",
    "- Machine learning\n",
    "- Data mining\n",
    "- Big data\n",
    "- Collecting data\n",
    "- Data wrangling"
   ]
  },
  {
   "cell_type": "markdown",
   "id": "d4d4fbf3-c836-4da0-8b53-dbbe8682de15",
   "metadata": {},
   "source": [
    "#### In this notebook, Data Science Tools and Ecosystem are summarized."
   ]
  },
  {
   "cell_type": "markdown",
   "id": "1d64e533-e9ac-4ccd-abab-0eca877da222",
   "metadata": {},
   "source": [
    "#### List data science languages"
   ]
  },
  {
   "cell_type": "markdown",
   "id": "0ed0f71d-c3ec-49ad-b186-9de0ca69f3aa",
   "metadata": {},
   "source": [
    "##### Some of the popular languages that Data Scientists use are:"
   ]
  },
  {
   "cell_type": "markdown",
   "id": "039b5445-89b8-4efd-b03d-77a72b26ebf7",
   "metadata": {},
   "source": [
    "1. Python\n",
    "2. Java\n",
    "3. R\n",
    "4. Scala\n",
    "5. Julia"
   ]
  },
  {
   "cell_type": "markdown",
   "id": "839f9c01-ccfe-4e0d-be7f-70290b9de9c3",
   "metadata": {},
   "source": [
    "#### List data science libraries"
   ]
  },
  {
   "cell_type": "markdown",
   "id": "2eef0d63-9995-42e6-9adc-76470b8e67bb",
   "metadata": {},
   "source": [
    "##### Some of the commonly used libraries used by Data Scientists include:"
   ]
  },
  {
   "cell_type": "markdown",
   "id": "190c9ab2-74d8-461b-a56d-97437a8a10e6",
   "metadata": {},
   "source": [
    "1. NumPy\n",
    "2. Pandas\n",
    "3. SciPy\n",
    "4. Matplotlib\n",
    "5. TensorFlow"
   ]
  },
  {
   "cell_type": "markdown",
   "id": "9b2a0bc6-8f9b-468a-83c1-f4d54cf6b96a",
   "metadata": {},
   "source": [
    "#### Table of Data Science tools"
   ]
  },
  {
   "cell_type": "markdown",
   "id": "9c710a95-e703-42da-b8ee-c518d9704a2c",
   "metadata": {},
   "source": [
    "| Data Science Tools |\n",
    ":----------------------\n",
    "| Jupyter Notebook   |\n",
    "| Python             |\n",
    "| RStudio Server     |\n",
    "| Tableau            |\n",
    "| Matplotlib         |\n",
    "----------------------"
   ]
  },
  {
   "cell_type": "markdown",
   "id": "6be6710b-7eef-440d-abe7-0e5450b77bc4",
   "metadata": {},
   "source": [
    "## Introducing arithmetic expression examples"
   ]
  },
  {
   "cell_type": "markdown",
   "id": "ba86c631-1ee8-4da3-964e-14e165dfc7e4",
   "metadata": {},
   "source": [
    "### Below are a few examples of evaluating arithmetic expressions in Python"
   ]
  },
  {
   "cell_type": "markdown",
   "id": "14d456aa-5b34-496d-b1ab-7606c2919dd7",
   "metadata": {},
   "source": [
    "1. a * b\n",
    "2. a / b\n",
    "3. a % b\n",
    "4. a // b"
   ]
  },
  {
   "cell_type": "code",
   "execution_count": 3,
   "id": "18c2cbc2-64d6-4987-9127-1ff0330a2612",
   "metadata": {},
   "outputs": [
    {
     "data": {
      "text/plain": [
       "17"
      ]
     },
     "execution_count": 3,
     "metadata": {},
     "output_type": "execute_result"
    }
   ],
   "source": [
    "# Multiply and add numbers\n",
    "# This a simple arithmetic expression to mutiply then add integers\n",
    "\n",
    "(3*4)+5"
   ]
  },
  {
   "cell_type": "code",
   "execution_count": 11,
   "id": "1e18a45c-f396-4b12-829b-0f9821116c6a",
   "metadata": {},
   "outputs": [
    {
     "name": "stdout",
     "output_type": "stream",
     "text": [
      "3\n",
      "3 20\n"
     ]
    }
   ],
   "source": [
    "# convert minutes to hours\n",
    "\"200 minutes into hours\"\n",
    "# This will convert 200 minutes to hours by diving by 60\n",
    "hours = 200 // 60\n",
    "print(hours);\n",
    "hours, minutes = divmod(200, 60)\n",
    "print(hours, minutes);"
   ]
  },
  {
   "cell_type": "markdown",
   "id": "61f75740-c9c1-49e9-943c-db839e2dc7fc",
   "metadata": {},
   "source": [
    "## Author\n",
    "##### Varshil Doshi"
   ]
  }
 ],
 "metadata": {
  "kernelspec": {
   "display_name": "Python 3 (ipykernel)",
   "language": "python",
   "name": "python3"
  },
  "language_info": {
   "codemirror_mode": {
    "name": "ipython",
    "version": 3
   },
   "file_extension": ".py",
   "mimetype": "text/x-python",
   "name": "python",
   "nbconvert_exporter": "python",
   "pygments_lexer": "ipython3",
   "version": "3.11.5"
  }
 },
 "nbformat": 4,
 "nbformat_minor": 5
}
